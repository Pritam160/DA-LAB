{
  "nbformat": 4,
  "nbformat_minor": 0,
  "metadata": {
    "colab": {
      "name": "CODE4.ipynb",
      "provenance": [],
      "collapsed_sections": []
    },
    "kernelspec": {
      "name": "python3",
      "display_name": "Python 3"
    },
    "language_info": {
      "name": "python"
    }
  },
  "cells": [
    {
      "cell_type": "markdown",
      "metadata": {
        "id": "pWrkrHtZxK0-"
      },
      "source": [
        "The following iterative sequence is defined for the set of positive integers: n → n/2 (n is even) n → 3n + 1 (n is odd) Using the rule above and starting with 13, we generate the following sequence: 13 → 40 → 20 → 10 → 5 → 16 → 8 → 4 → 2 → 1 It can be seen that this sequence (starting at 13 and finishing at 1) contains 10 terms. Although it has not been proved yet (Collatz Problem), it is thought that all starting numbers finish at 1. Which starting number, under one thousand, produces the longest chain?"
      ]
    },
    {
      "cell_type": "code",
      "metadata": {
        "id": "YRDWktCtxKHT"
      },
      "source": [
        "collatz.chain <- function(n) {\n",
        "    chain <- vector()\n",
        "    i <- 1\n",
        "    while (n != 1) {\n",
        "        if (n%%2 == 0)\n",
        "            n <- n / 2\n",
        "        else\n",
        "        n <- 3 * n + 1\n",
        "        chain[i] <- n\n",
        "        i <- i + 1\n",
        "    }\n",
        "    return(chain)\n",
        "}\n",
        "answer <- 0\n",
        "collatz.max <- 0\n",
        "for (n in 1:1E6) {\n",
        "    collatz.length <- length(collatz.chain(n))\n",
        "    if (collatz.length > collatz.max) {\n",
        "        answer <- n\n",
        "        collatz.max <- collatz.length\n",
        "    }\n",
        "}\n",
        "print(answer)"
      ],
      "execution_count": null,
      "outputs": []
    }
  ]
}