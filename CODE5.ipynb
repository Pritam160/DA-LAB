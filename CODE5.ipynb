{
  "nbformat": 4,
  "nbformat_minor": 0,
  "metadata": {
    "colab": {
      "name": "CODE5.ipynb",
      "provenance": [],
      "collapsed_sections": []
    },
    "kernelspec": {
      "name": "python3",
      "display_name": "Python 3"
    },
    "language_info": {
      "name": "python"
    }
  },
  "cells": [
    {
      "cell_type": "markdown",
      "metadata": {
        "id": "6coCalLexi1X"
      },
      "source": [
        "The number 512 is interesting because it is equal to the sum of its digits raised to some power: 5 + 1 + 2 = 8, and 83 = 512. Another example of a number with this property is 614656 = 284. We shall define an to be the nth term of this sequence and insist that a number must contain at least two digits to have a sum. You are given that a2 = 512 and a10 = 614656. Find a30."
      ]
    },
    {
      "cell_type": "code",
      "metadata": {
        "id": "3_ZBlDCWxdDm"
      },
      "source": [
        "List<BigInteger> a = new List<BigInteger>();\n",
        "             \n",
        "for (int b = 2; b < 400; b++) {\n",
        "    BigInteger value = b;\n",
        "    for (int e = 2; e < 50; e++) {\n",
        "        value *= b;\n",
        " \n",
        "        if (DigitSum(value) == b) {\n",
        "            a.Add(value);            \n",
        "        }\n",
        "        if (a.Count > 50) break;                    \n",
        "    }\n",
        "    if (a.Count > 50) break;                    \n",
        "}"
      ],
      "execution_count": null,
      "outputs": []
    }
  ]
}