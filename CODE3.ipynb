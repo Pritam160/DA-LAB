{
  "nbformat": 4,
  "nbformat_minor": 0,
  "metadata": {
    "colab": {
      "name": "CODE3.ipynb",
      "provenance": [],
      "collapsed_sections": []
    },
    "kernelspec": {
      "name": "python3",
      "display_name": "Python 3"
    },
    "language_info": {
      "name": "python"
    }
  },
  "cells": [
    {
      "cell_type": "markdown",
      "metadata": {
        "id": "MEwrX9cFwzpX"
      },
      "source": [
        "A palindromic number reads the same both ways. The largest palindrome made from the product of two 2-digit numbers is 9009 = 91 × 99. Find the largest palindrome made from the product of two 3-digit numbers."
      ]
    },
    {
      "cell_type": "code",
      "metadata": {
        "id": "Sq3WTc7wwyLi"
      },
      "source": [
        "genNums <- function() {\n",
        "  empty <- list()\n",
        "  l <- c(100:999) #the question is only interested in three digit numbers.  Lowest three digit number is 100.\n",
        "  for (i in l){\n",
        "    result <- i * l  #,multiply each item in list l by list l to obtain the set of possible products\n",
        "    empty <-  c(empty, result)  #concatonate the multiplication results into a list\n",
        "  }#end for loop\n",
        "  return(empty) \n",
        "}#end function\n",
        "\n",
        "findPalindromes <- function(){\n",
        "  full <- genNums()\n",
        "  pals <- list()\n",
        "  print(\"I made it through genNums\")\n",
        "  for (i in full){\n",
        "    if (i == rev(i)){\n",
        "    pals <- c(pals, i)\n",
        "    }\n",
        "  }#end for loop\n",
        "\n",
        "  maximum <-  max(pals)\n",
        "  print(c(\"The largest palindrome is \" + maximu))\n",
        "}#end function"
      ],
      "execution_count": null,
      "outputs": []
    }
  ]
}